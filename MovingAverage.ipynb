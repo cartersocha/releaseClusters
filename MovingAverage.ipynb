{
 "cells": [
  {
   "cell_type": "code",
   "execution_count": 102,
   "metadata": {},
   "outputs": [],
   "source": [
    "import pandas as pd\n",
    "from datetime import timedelta\n",
    "\n",
    "filepath1 = r'/Users/cartersocha/Downloads/uberDataset6.csv'\n",
    "uberSet = pd.read_csv(filepath1)"
   ]
  },
  {
   "cell_type": "code",
   "execution_count": 103,
   "metadata": {},
   "outputs": [],
   "source": [
    "firstWeek = uberSet[uberSet['PostReleaseDay'] < 7]\n",
    "firstWeek = firstWeek[firstWeek['Ignore'] == 1]\n",
    "firstWeek['ScaledDataAdjust-QuantileTransformer'] = firstWeek['ScaledDataAdjust-QuantileTransformer'].replace(0,.1)\n",
    "firstWeek['SocialMediaValue'] = firstWeek['SocialMediaValue'].replace(0,.1)\n",
    "firstWeekSum = firstWeek.groupby(['TvShow','ReleaseCadence'], as_index=False).sum()\n",
    "firstWeekSum = firstWeekSum[['TvShow','ReleaseCadence','SocialMediaValue','ScaledDataAdjust-QuantileTransformer']]"
   ]
  },
  {
   "cell_type": "code",
   "execution_count": 104,
   "metadata": {},
   "outputs": [],
   "source": [
    "totalDf = uberSet[uberSet['Ignore'] == 1]\n",
    "totalDf['SocialMediaValue'] = totalDf['SocialMediaValue'].replace(0,.1)\n",
    "totalDf = totalDf.groupby(['TvShow','ReleaseCadence'], as_index=False).sum()\n",
    "totalDf = totalDf[['TvShow','ReleaseCadence','SocialMediaValue','ScaledDataAdjust-QuantileTransformer']]"
   ]
  },
  {
   "cell_type": "code",
   "execution_count": 105,
   "metadata": {},
   "outputs": [
    {
     "data": {
      "text/html": [
       "<div>\n",
       "<style scoped>\n",
       "    .dataframe tbody tr th:only-of-type {\n",
       "        vertical-align: middle;\n",
       "    }\n",
       "\n",
       "    .dataframe tbody tr th {\n",
       "        vertical-align: top;\n",
       "    }\n",
       "\n",
       "    .dataframe thead th {\n",
       "        text-align: right;\n",
       "    }\n",
       "</style>\n",
       "<table border=\"1\" class=\"dataframe\">\n",
       "  <thead>\n",
       "    <tr style=\"text-align: right;\">\n",
       "      <th></th>\n",
       "      <th>TvShow</th>\n",
       "      <th>ReleaseCadence</th>\n",
       "      <th>SocialMediaValue</th>\n",
       "      <th>ScaledDataAdjust-QuantileTransformer</th>\n",
       "    </tr>\n",
       "  </thead>\n",
       "  <tbody>\n",
       "    <tr>\n",
       "      <th>0</th>\n",
       "      <td>ABlackLadySketchShow</td>\n",
       "      <td>Weekly</td>\n",
       "      <td>5049.88</td>\n",
       "      <td>14.827163</td>\n",
       "    </tr>\n",
       "    <tr>\n",
       "      <th>1</th>\n",
       "      <td>AboutLastNighthbo</td>\n",
       "      <td>Binge</td>\n",
       "      <td>0.70</td>\n",
       "      <td>0.700000</td>\n",
       "    </tr>\n",
       "    <tr>\n",
       "      <th>2</th>\n",
       "      <td>Archive81</td>\n",
       "      <td>Binge</td>\n",
       "      <td>42649.28</td>\n",
       "      <td>16.023360</td>\n",
       "    </tr>\n",
       "    <tr>\n",
       "      <th>3</th>\n",
       "      <td>Atlantafx</td>\n",
       "      <td>Hybrid</td>\n",
       "      <td>402624.73</td>\n",
       "      <td>26.995722</td>\n",
       "    </tr>\n",
       "    <tr>\n",
       "      <th>4</th>\n",
       "      <td>Barry</td>\n",
       "      <td>Weekly</td>\n",
       "      <td>212344.21</td>\n",
       "      <td>28.224639</td>\n",
       "    </tr>\n",
       "  </tbody>\n",
       "</table>\n",
       "</div>"
      ],
      "text/plain": [
       "                 TvShow ReleaseCadence  SocialMediaValue  \\\n",
       "0  ABlackLadySketchShow         Weekly           5049.88   \n",
       "1     AboutLastNighthbo          Binge              0.70   \n",
       "2             Archive81          Binge          42649.28   \n",
       "3             Atlantafx         Hybrid         402624.73   \n",
       "4                 Barry         Weekly         212344.21   \n",
       "\n",
       "   ScaledDataAdjust-QuantileTransformer  \n",
       "0                             14.827163  \n",
       "1                              0.700000  \n",
       "2                             16.023360  \n",
       "3                             26.995722  \n",
       "4                             28.224639  "
      ]
     },
     "execution_count": 105,
     "metadata": {},
     "output_type": "execute_result"
    }
   ],
   "source": [
    "firstWeekSum.head()"
   ]
  },
  {
   "cell_type": "code",
   "execution_count": 106,
   "metadata": {},
   "outputs": [
    {
     "data": {
      "text/html": [
       "<div>\n",
       "<style scoped>\n",
       "    .dataframe tbody tr th:only-of-type {\n",
       "        vertical-align: middle;\n",
       "    }\n",
       "\n",
       "    .dataframe tbody tr th {\n",
       "        vertical-align: top;\n",
       "    }\n",
       "\n",
       "    .dataframe thead th {\n",
       "        text-align: right;\n",
       "    }\n",
       "</style>\n",
       "<table border=\"1\" class=\"dataframe\">\n",
       "  <thead>\n",
       "    <tr style=\"text-align: right;\">\n",
       "      <th></th>\n",
       "      <th>TvShow</th>\n",
       "      <th>ReleaseCadence</th>\n",
       "      <th>SocialMediaValue</th>\n",
       "      <th>ScaledDataAdjust-QuantileTransformer</th>\n",
       "    </tr>\n",
       "  </thead>\n",
       "  <tbody>\n",
       "    <tr>\n",
       "      <th>1</th>\n",
       "      <td>AboutLastNighthbo</td>\n",
       "      <td>Binge</td>\n",
       "      <td>9.80</td>\n",
       "      <td>0.148148</td>\n",
       "    </tr>\n",
       "    <tr>\n",
       "      <th>53</th>\n",
       "      <td>tehrantv</td>\n",
       "      <td>Hybrid</td>\n",
       "      <td>8116.87</td>\n",
       "      <td>59.833905</td>\n",
       "    </tr>\n",
       "    <tr>\n",
       "      <th>51</th>\n",
       "      <td>WokeHulu</td>\n",
       "      <td>Binge</td>\n",
       "      <td>6517.23</td>\n",
       "      <td>69.596446</td>\n",
       "    </tr>\n",
       "    <tr>\n",
       "      <th>15</th>\n",
       "      <td>HypeHouse</td>\n",
       "      <td>Binge</td>\n",
       "      <td>66522.44</td>\n",
       "      <td>73.989323</td>\n",
       "    </tr>\n",
       "    <tr>\n",
       "      <th>17</th>\n",
       "      <td>JoeVsCarole</td>\n",
       "      <td>Binge</td>\n",
       "      <td>10007.52</td>\n",
       "      <td>74.782577</td>\n",
       "    </tr>\n",
       "  </tbody>\n",
       "</table>\n",
       "</div>"
      ],
      "text/plain": [
       "               TvShow ReleaseCadence  SocialMediaValue  \\\n",
       "1   AboutLastNighthbo          Binge              9.80   \n",
       "53           tehrantv         Hybrid           8116.87   \n",
       "51           WokeHulu          Binge           6517.23   \n",
       "15          HypeHouse          Binge          66522.44   \n",
       "17        JoeVsCarole          Binge          10007.52   \n",
       "\n",
       "    ScaledDataAdjust-QuantileTransformer  \n",
       "1                               0.148148  \n",
       "53                             59.833905  \n",
       "51                             69.596446  \n",
       "15                             73.989323  \n",
       "17                             74.782577  "
      ]
     },
     "execution_count": 106,
     "metadata": {},
     "output_type": "execute_result"
    }
   ],
   "source": [
    "totalDf.sort_values(['ScaledDataAdjust-QuantileTransformer']).head()"
   ]
  },
  {
   "cell_type": "code",
   "execution_count": 107,
   "metadata": {},
   "outputs": [],
   "source": [
    "merged = pd.merge(totalDf,firstWeekSum, how='outer', on='TvShow')"
   ]
  },
  {
   "cell_type": "code",
   "execution_count": 108,
   "metadata": {},
   "outputs": [],
   "source": [
    "merged['multiplier'] = merged['ScaledDataAdjust-QuantileTransformer_x'] / merged['ScaledDataAdjust-QuantileTransformer_y']"
   ]
  },
  {
   "cell_type": "code",
   "execution_count": 109,
   "metadata": {},
   "outputs": [],
   "source": [
    "merged['multiplier2'] = merged['SocialMediaValue_x'] / merged['SocialMediaValue_y']"
   ]
  },
  {
   "cell_type": "code",
   "execution_count": 110,
   "metadata": {},
   "outputs": [
    {
     "data": {
      "text/html": [
       "<div>\n",
       "<style scoped>\n",
       "    .dataframe tbody tr th:only-of-type {\n",
       "        vertical-align: middle;\n",
       "    }\n",
       "\n",
       "    .dataframe tbody tr th {\n",
       "        vertical-align: top;\n",
       "    }\n",
       "\n",
       "    .dataframe thead th {\n",
       "        text-align: right;\n",
       "    }\n",
       "</style>\n",
       "<table border=\"1\" class=\"dataframe\">\n",
       "  <thead>\n",
       "    <tr style=\"text-align: right;\">\n",
       "      <th></th>\n",
       "      <th>TvShow</th>\n",
       "      <th>ReleaseCadence_x</th>\n",
       "      <th>multiplier</th>\n",
       "      <th>multiplier2</th>\n",
       "    </tr>\n",
       "  </thead>\n",
       "  <tbody>\n",
       "    <tr>\n",
       "      <th>1</th>\n",
       "      <td>AboutLastNighthbo</td>\n",
       "      <td>Binge</td>\n",
       "      <td>0.211640</td>\n",
       "      <td>14.000000</td>\n",
       "    </tr>\n",
       "    <tr>\n",
       "      <th>51</th>\n",
       "      <td>WokeHulu</td>\n",
       "      <td>Binge</td>\n",
       "      <td>5.486796</td>\n",
       "      <td>2.884828</td>\n",
       "    </tr>\n",
       "    <tr>\n",
       "      <th>17</th>\n",
       "      <td>JoeVsCarole</td>\n",
       "      <td>Binge</td>\n",
       "      <td>5.499899</td>\n",
       "      <td>2.051041</td>\n",
       "    </tr>\n",
       "    <tr>\n",
       "      <th>6</th>\n",
       "      <td>BlingEmpire</td>\n",
       "      <td>Binge</td>\n",
       "      <td>5.801197</td>\n",
       "      <td>1.793964</td>\n",
       "    </tr>\n",
       "    <tr>\n",
       "      <th>8</th>\n",
       "      <td>ConversationsWithFriends</td>\n",
       "      <td>Binge</td>\n",
       "      <td>5.846969</td>\n",
       "      <td>2.083962</td>\n",
       "    </tr>\n",
       "  </tbody>\n",
       "</table>\n",
       "</div>"
      ],
      "text/plain": [
       "                      TvShow ReleaseCadence_x  multiplier  multiplier2\n",
       "1          AboutLastNighthbo            Binge    0.211640    14.000000\n",
       "51                  WokeHulu            Binge    5.486796     2.884828\n",
       "17               JoeVsCarole            Binge    5.499899     2.051041\n",
       "6                BlingEmpire            Binge    5.801197     1.793964\n",
       "8   ConversationsWithFriends            Binge    5.846969     2.083962"
      ]
     },
     "execution_count": 110,
     "metadata": {},
     "output_type": "execute_result"
    }
   ],
   "source": [
    "merged[['TvShow','ReleaseCadence_x','multiplier','multiplier2']].sort_values(['multiplier']).head()"
   ]
  },
  {
   "cell_type": "code",
   "execution_count": 111,
   "metadata": {},
   "outputs": [],
   "source": [
    "analysisDf = merged.groupby(['ReleaseCadence_x'], as_index=False).mean()"
   ]
  },
  {
   "cell_type": "code",
   "execution_count": 112,
   "metadata": {},
   "outputs": [
    {
     "data": {
      "text/html": [
       "<div>\n",
       "<style scoped>\n",
       "    .dataframe tbody tr th:only-of-type {\n",
       "        vertical-align: middle;\n",
       "    }\n",
       "\n",
       "    .dataframe tbody tr th {\n",
       "        vertical-align: top;\n",
       "    }\n",
       "\n",
       "    .dataframe thead th {\n",
       "        text-align: right;\n",
       "    }\n",
       "</style>\n",
       "<table border=\"1\" class=\"dataframe\">\n",
       "  <thead>\n",
       "    <tr style=\"text-align: right;\">\n",
       "      <th></th>\n",
       "      <th>ReleaseCadence_x</th>\n",
       "      <th>SocialMediaValue_x</th>\n",
       "      <th>ScaledDataAdjust-QuantileTransformer_x</th>\n",
       "      <th>SocialMediaValue_y</th>\n",
       "      <th>ScaledDataAdjust-QuantileTransformer_y</th>\n",
       "      <th>multiplier</th>\n",
       "      <th>multiplier2</th>\n",
       "    </tr>\n",
       "  </thead>\n",
       "  <tbody>\n",
       "    <tr>\n",
       "      <th>0</th>\n",
       "      <td>Binge</td>\n",
       "      <td>7.609294e+05</td>\n",
       "      <td>192.066686</td>\n",
       "      <td>209877.012105</td>\n",
       "      <td>22.325345</td>\n",
       "      <td>8.172213</td>\n",
       "      <td>5.136646</td>\n",
       "    </tr>\n",
       "    <tr>\n",
       "      <th>1</th>\n",
       "      <td>Hybrid</td>\n",
       "      <td>2.052261e+06</td>\n",
       "      <td>243.994278</td>\n",
       "      <td>348437.618400</td>\n",
       "      <td>23.162813</td>\n",
       "      <td>10.778315</td>\n",
       "      <td>7.047054</td>\n",
       "    </tr>\n",
       "    <tr>\n",
       "      <th>2</th>\n",
       "      <td>Weekly</td>\n",
       "      <td>2.074992e+06</td>\n",
       "      <td>259.795698</td>\n",
       "      <td>395781.323636</td>\n",
       "      <td>23.692448</td>\n",
       "      <td>11.897911</td>\n",
       "      <td>7.415008</td>\n",
       "    </tr>\n",
       "  </tbody>\n",
       "</table>\n",
       "</div>"
      ],
      "text/plain": [
       "  ReleaseCadence_x  SocialMediaValue_x  \\\n",
       "0            Binge        7.609294e+05   \n",
       "1           Hybrid        2.052261e+06   \n",
       "2           Weekly        2.074992e+06   \n",
       "\n",
       "   ScaledDataAdjust-QuantileTransformer_x  SocialMediaValue_y  \\\n",
       "0                              192.066686       209877.012105   \n",
       "1                              243.994278       348437.618400   \n",
       "2                              259.795698       395781.323636   \n",
       "\n",
       "   ScaledDataAdjust-QuantileTransformer_y  multiplier  multiplier2  \n",
       "0                               22.325345    8.172213     5.136646  \n",
       "1                               23.162813   10.778315     7.047054  \n",
       "2                               23.692448   11.897911     7.415008  "
      ]
     },
     "execution_count": 112,
     "metadata": {},
     "output_type": "execute_result"
    }
   ],
   "source": [
    "analysisDf"
   ]
  }
 ],
 "metadata": {
  "kernelspec": {
   "display_name": "Python 3.9.9 64-bit",
   "language": "python",
   "name": "python3"
  },
  "language_info": {
   "codemirror_mode": {
    "name": "ipython",
    "version": 3
   },
   "file_extension": ".py",
   "mimetype": "text/x-python",
   "name": "python",
   "nbconvert_exporter": "python",
   "pygments_lexer": "ipython3",
   "version": "3.9.9"
  },
  "orig_nbformat": 4,
  "vscode": {
   "interpreter": {
    "hash": "aee8b7b246df8f9039afb4144a1f6fd8d2ca17a180786b69acc140d282b71a49"
   }
  }
 },
 "nbformat": 4,
 "nbformat_minor": 2
}
