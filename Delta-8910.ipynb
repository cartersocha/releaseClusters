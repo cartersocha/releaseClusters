{
 "cells": [
  {
   "cell_type": "markdown",
   "metadata": {},
   "source": [
    "# Delta Practice"
   ]
  },
  {
   "cell_type": "markdown",
   "metadata": {},
   "source": [
    "### File Read In"
   ]
  },
  {
   "cell_type": "code",
   "execution_count": 90,
   "metadata": {},
   "outputs": [],
   "source": [
    "import pandas as pd\n",
    "\n",
    "filepath1 = r'/Users/cartersocha/Downloads/instgramHashtagCounts.xlsx'\n",
    "instaHashtagDf = pd.read_excel(filepath1)\n",
    "\n",
    "filepath2 = r'/Users/cartersocha/Downloads/tweetCountTest.xlsx'\n",
    "dailyTweetDf = pd.read_excel(filepath2)\n",
    "\n",
    "filepath3 = r'/Users/cartersocha/Desktop/ReleaseData.xlsx'\n",
    "releaseDf = pd.read_excel(filepath3, \"ShowInfoEndStart\")\n",
    "\n",
    "filepath4 = r'/Users/cartersocha/Downloads/instgramAccountCounts.xlsx'\n",
    "igAccountDf = pd.read_excel(filepath4)\n",
    "\n",
    "filepath5 = r'/Users/cartersocha/Downloads/redditCountTest.xlsx'\n",
    "redditSubsDf = pd.read_excel(filepath5)\n",
    "\n",
    "filepath6 = r'/Users/cartersocha/Downloads/redditCountFinal.txt'\n",
    "#redditCommentsDf = pd.read_excel(filepath6)\n",
    "\n",
    "filepath7 = r'/Users/cartersocha/Downloads/googleTvCount.xlsx'\n",
    "googleTrendsDf = pd.read_excel(filepath7)"
   ]
  },
  {
   "cell_type": "markdown",
   "metadata": {},
   "source": [
    "### Functions"
   ]
  },
  {
   "cell_type": "code",
   "execution_count": 91,
   "metadata": {},
   "outputs": [],
   "source": [
    "def DateTimeConvert(dateDf, dateColumn):\n",
    "    dateDf[dateColumn] = pd.to_datetime(dateDf[dateColumn])  \n",
    "\n",
    "    return dateDf"
   ]
  },
  {
   "cell_type": "code",
   "execution_count": 92,
   "metadata": {},
   "outputs": [],
   "source": [
    "def DiffMaker(fillnaDf, valueColumn, dateColumn):\n",
    "    fillnaDf.sort_values(['TvShow', dateColumn], inplace=True)\n",
    "\n",
    "    fillnaDf['diffs'] = fillnaDf.groupby(['TvShow'])[valueColumn].transform(lambda x: x.diff()).fillna(0)\n",
    "\n",
    "    fillnaDf.sort_index(inplace=True)\n",
    "\n",
    "    return fillnaDf"
   ]
  },
  {
   "cell_type": "code",
   "execution_count": 93,
   "metadata": {},
   "outputs": [],
   "source": [
    "def RemoveData(release,showDf):\n",
    "\n",
    "    bigDf = pd.DataFrame()\n",
    "\n",
    "    for i in range(len(release)):\n",
    "        show = release['TvShow'][i]\n",
    "        firstDate = release['Release Date'][i]\n",
    "        secondDate = release['90DayDate'][i]\n",
    "\n",
    "        smallDf = showDf[showDf['TvShow'] == show]\n",
    "\n",
    "        newdf = smallDf[smallDf['RunDate'].between(firstDate, secondDate)]\n",
    "\n",
    "        bigDf = bigDf.append(newdf,ignore_index=True)\n",
    "\n",
    "    return bigDf"
   ]
  },
  {
   "cell_type": "code",
   "execution_count": 94,
   "metadata": {},
   "outputs": [],
   "source": [
    "def MergeDfs(mainDf, secondDf):\n",
    "\n",
    "    merged = pd.merge(mainDf,secondDf, how='outer', on=['TvShow'])\n",
    "    return merged"
   ]
  },
  {
   "cell_type": "code",
   "execution_count": 95,
   "metadata": {},
   "outputs": [],
   "source": [
    "import numpy as np\n",
    "\n",
    "def NegativeDiffs(diffDf,columnName):\n",
    "\n",
    "    diffDf[columnName] = np.where((diffDf[columnName] < 0), 0, diffDf[columnName])\n",
    "\n",
    "    return diffDf"
   ]
  },
  {
   "cell_type": "code",
   "execution_count": 96,
   "metadata": {},
   "outputs": [],
   "source": [
    "def SumSocialMedia(sumDf,columnName):\n",
    "\n",
    "    summarizedDf = sumDf.groupby(columnName, as_index=False).sum()\n",
    "    summarizedDf = pd.DataFrame(summarizedDf)\n",
    "\n",
    "    return summarizedDf"
   ]
  },
  {
   "cell_type": "markdown",
   "metadata": {},
   "source": [
    "### Data Transformations"
   ]
  },
  {
   "cell_type": "markdown",
   "metadata": {},
   "source": [
    "##### Release Data"
   ]
  },
  {
   "cell_type": "code",
   "execution_count": 97,
   "metadata": {},
   "outputs": [],
   "source": [
    "releaseDf['90DayDate'] = releaseDf['Release Date'] + pd.DateOffset(days=90)\n",
    "\n",
    "releaseDf = DateTimeConvert(releaseDf,'90DayDate')\n",
    "releaseDf = DateTimeConvert(releaseDf,'Release Date')"
   ]
  },
  {
   "cell_type": "markdown",
   "metadata": {},
   "source": [
    "##### Instagram Hashtag Data"
   ]
  },
  {
   "cell_type": "code",
   "execution_count": 98,
   "metadata": {},
   "outputs": [
    {
     "name": "stderr",
     "output_type": "stream",
     "text": [
      "/var/folders/7v/2b53j97121jg00pcthbt6kz80000gn/T/ipykernel_95808/2781502079.py:14: FutureWarning: The frame.append method is deprecated and will be removed from pandas in a future version. Use pandas.concat instead.\n",
      "  bigDf = bigDf.append(newdf,ignore_index=True)\n"
     ]
    }
   ],
   "source": [
    "instaHashtagDf = DateTimeConvert(instaHashtagDf,'RunDate')\n",
    "\n",
    "instaHashtagDf = DiffMaker(instaHashtagDf,'HashtagValue','RunDate')\n",
    "\n",
    "instaHashDf = RemoveData(releaseDf, instaHashtagDf)\n",
    "instaHashDf = NegativeDiffs(instaHashDf, 'diffs')\n",
    "instaHashDf['SocialMediaSource'] = 'InstagramHashtag'\n",
    "instaHashDf['SocialMediaValue'] = instaHashDf['diffs']\n",
    "\n",
    "iHashtagDf = SumSocialMedia(instaHashDf, 'TvShow')\n",
    "\n",
    "iHashtagDf['SocialMediaValue'] = iHashtagDf['diffs']\n",
    "iHashtagDf['SocialMediaSource'] = 'InstagramHashtag'"
   ]
  },
  {
   "cell_type": "markdown",
   "metadata": {},
   "source": [
    "##### Twitter Data"
   ]
  },
  {
   "cell_type": "code",
   "execution_count": 99,
   "metadata": {},
   "outputs": [
    {
     "name": "stderr",
     "output_type": "stream",
     "text": [
      "/var/folders/7v/2b53j97121jg00pcthbt6kz80000gn/T/ipykernel_95808/2781502079.py:14: FutureWarning: The frame.append method is deprecated and will be removed from pandas in a future version. Use pandas.concat instead.\n",
      "  bigDf = bigDf.append(newdf,ignore_index=True)\n"
     ]
    }
   ],
   "source": [
    "dailyTweetDf = DateTimeConvert(dailyTweetDf,'RunDate')\n",
    "dailyTweetDf = RemoveData(releaseDf, dailyTweetDf)\n",
    "dailyTweetDf['SocialMediaValue'] = dailyTweetDf['TweetCount'] + dailyTweetDf['RetweetCount']\n",
    "dailyTweetDf['SocialMediaSource'] = 'Tweets'\n",
    "\n",
    "iTweetCountDf = SumSocialMedia(dailyTweetDf, 'TvShow')\n",
    "iTweetCountDf['SocialMediaSource'] = 'Tweets'"
   ]
  },
  {
   "cell_type": "markdown",
   "metadata": {},
   "source": [
    "##### Reddit Comment Data"
   ]
  },
  {
   "cell_type": "markdown",
   "metadata": {},
   "source": [
    "redditCommentsDf = DateTimeConvert(redditCommentsDf,'runDate')\n",
    "\n",
    "redCommentDf = RemoveData(releaseDf, redditCommentsDf)\n",
    "\n",
    "\n",
    "iRedCommentDf = SumSocialMedia(redCommentDf, 'TvShow')\n",
    "iRedCommentDf['SocialMediaValue'] = redCommentDf['NumComments'] + redCommentDf['score']\n",
    "iRedCommentDf['SocialMediaSource'] = 'RedditComments'"
   ]
  },
  {
   "cell_type": "markdown",
   "metadata": {},
   "source": [
    "##### Instagram Account Data"
   ]
  },
  {
   "cell_type": "code",
   "execution_count": 100,
   "metadata": {},
   "outputs": [
    {
     "name": "stderr",
     "output_type": "stream",
     "text": [
      "/var/folders/7v/2b53j97121jg00pcthbt6kz80000gn/T/ipykernel_95808/2781502079.py:14: FutureWarning: The frame.append method is deprecated and will be removed from pandas in a future version. Use pandas.concat instead.\n",
      "  bigDf = bigDf.append(newdf,ignore_index=True)\n"
     ]
    }
   ],
   "source": [
    "igAccountDf = DateTimeConvert(igAccountDf,'RunDate')\n",
    "\n",
    "igAccountDf = DiffMaker(igAccountDf,'IgAccountCounts','RunDate')\n",
    "\n",
    "\n",
    "instaAccDf = RemoveData(releaseDf, igAccountDf)\n",
    "instaAccDf = NegativeDiffs(instaAccDf, 'diffs')\n",
    "instaAccDf['SocialMediaSource'] = 'InstagramAccount'\n",
    "instaAccDf['SocialMediaValue'] = instaAccDf['diffs']\n",
    "\n",
    "iAccountDf = SumSocialMedia(instaAccDf, 'TvShow')\n",
    "\n",
    "iAccountDf['SocialMediaValue'] = iAccountDf['diffs']\n",
    "iAccountDf['SocialMediaSource'] = 'InstagramAccount'"
   ]
  },
  {
   "cell_type": "markdown",
   "metadata": {},
   "source": [
    "##### Reddit Subscriber Data"
   ]
  },
  {
   "cell_type": "code",
   "execution_count": 101,
   "metadata": {},
   "outputs": [
    {
     "name": "stderr",
     "output_type": "stream",
     "text": [
      "/var/folders/7v/2b53j97121jg00pcthbt6kz80000gn/T/ipykernel_95808/2781502079.py:14: FutureWarning: The frame.append method is deprecated and will be removed from pandas in a future version. Use pandas.concat instead.\n",
      "  bigDf = bigDf.append(newdf,ignore_index=True)\n"
     ]
    }
   ],
   "source": [
    "redditSubsDf = DateTimeConvert(redditSubsDf,'RunDate')\n",
    "\n",
    "redditSubsDf = DiffMaker(redditSubsDf,'RedditSubs','RunDate')\n",
    "\n",
    "redSubDf = RemoveData(releaseDf, redditSubsDf)\n",
    "redSubDf = NegativeDiffs(redSubDf, 'diffs')\n",
    "redSubDf['SocialMediaSource'] = 'RedditSubscribers'\n",
    "redSubDf['SocialMediaValue'] = redSubDf['diffs']\n",
    "\n",
    "iRedSubDf = SumSocialMedia(redSubDf, 'TvShow')\n",
    "iRedSubDf['SocialMediaValue'] = iRedSubDf['diffs']\n",
    "iRedSubDf['SocialMediaSource'] = 'RedditSubscribers'"
   ]
  },
  {
   "cell_type": "markdown",
   "metadata": {},
   "source": [
    "##### Google Data"
   ]
  },
  {
   "cell_type": "code",
   "execution_count": 102,
   "metadata": {},
   "outputs": [
    {
     "name": "stderr",
     "output_type": "stream",
     "text": [
      "/var/folders/7v/2b53j97121jg00pcthbt6kz80000gn/T/ipykernel_95808/2781502079.py:14: FutureWarning: The frame.append method is deprecated and will be removed from pandas in a future version. Use pandas.concat instead.\n",
      "  bigDf = bigDf.append(newdf,ignore_index=True)\n"
     ]
    }
   ],
   "source": [
    "googleTrendsDf = DateTimeConvert(googleTrendsDf,'RunDate')\n",
    "\n",
    "googDf = RemoveData(releaseDf, googleTrendsDf)\n",
    "googDf = NegativeDiffs(googDf, 'GoogleValue')\n",
    "googDf['SocialMediaSource'] = 'Google'\n",
    "googDf['SocialMediaValue'] = googDf['GoogleValue']"
   ]
  },
  {
   "cell_type": "markdown",
   "metadata": {},
   "source": [
    "##### Join the Data"
   ]
  },
  {
   "cell_type": "markdown",
   "metadata": {},
   "source": [
    "##### Time Value Datasets"
   ]
  },
  {
   "cell_type": "code",
   "execution_count": 103,
   "metadata": {},
   "outputs": [],
   "source": [
    "instaAccDf = instaAccDf[['TvShow','RunDate','SocialMediaValue','SocialMediaSource']]\n",
    "redSubDf = redSubDf[['TvShow','RunDate','SocialMediaValue','SocialMediaSource']]\n",
    "dailyTweetDf = dailyTweetDf[['TvShow','RunDate','SocialMediaValue','SocialMediaSource']]\n",
    "instaHashDf = instaHashDf[['TvShow','RunDate','SocialMediaValue','SocialMediaSource']]\n",
    "googDf = googDf[['TvShow','RunDate','SocialMediaValue','SocialMediaSource']]"
   ]
  },
  {
   "cell_type": "code",
   "execution_count": 110,
   "metadata": {},
   "outputs": [],
   "source": [
    "uberDf2 = pd.concat([instaAccDf,redSubDf,dailyTweetDf,instaHashDf,googDf])\n",
    "\n",
    "uberDf3 = MergeDfs(uberDf2, releaseDf)\n",
    "uberDf3 = uberDf3[uberDf3['Cancel'] != 0]"
   ]
  },
  {
   "cell_type": "markdown",
   "metadata": {},
   "source": [
    "##### Aggregation Datasets"
   ]
  },
  {
   "cell_type": "code",
   "execution_count": 105,
   "metadata": {},
   "outputs": [],
   "source": [
    "igAccount = iAccountDf[['TvShow','SocialMediaValue','SocialMediaSource']]\n",
    "redditSub = iRedSubDf[['TvShow','SocialMediaValue','SocialMediaSource']]\n",
    "tweetComments = iTweetCountDf[['TvShow','SocialMediaValue','SocialMediaSource']]\n",
    "igHashtag = iHashtagDf[['TvShow','SocialMediaValue','SocialMediaSource']]"
   ]
  },
  {
   "cell_type": "markdown",
   "metadata": {},
   "source": [
    "##### Dataset Merging"
   ]
  },
  {
   "cell_type": "code",
   "execution_count": 106,
   "metadata": {},
   "outputs": [
    {
     "data": {
      "text/html": [
       "<div>\n",
       "<style scoped>\n",
       "    .dataframe tbody tr th:only-of-type {\n",
       "        vertical-align: middle;\n",
       "    }\n",
       "\n",
       "    .dataframe tbody tr th {\n",
       "        vertical-align: top;\n",
       "    }\n",
       "\n",
       "    .dataframe thead th {\n",
       "        text-align: right;\n",
       "    }\n",
       "</style>\n",
       "<table border=\"1\" class=\"dataframe\">\n",
       "  <thead>\n",
       "    <tr style=\"text-align: right;\">\n",
       "      <th></th>\n",
       "      <th>TvShow</th>\n",
       "      <th>SocialMediaValue</th>\n",
       "      <th>SocialMediaSource</th>\n",
       "    </tr>\n",
       "  </thead>\n",
       "  <tbody>\n",
       "    <tr>\n",
       "      <th>0</th>\n",
       "      <td>ABlackLadySketchShow</td>\n",
       "      <td>7394.0</td>\n",
       "      <td>InstagramAccount</td>\n",
       "    </tr>\n",
       "    <tr>\n",
       "      <th>1</th>\n",
       "      <td>Archive81</td>\n",
       "      <td>89.0</td>\n",
       "      <td>InstagramAccount</td>\n",
       "    </tr>\n",
       "    <tr>\n",
       "      <th>2</th>\n",
       "      <td>Atlantafx</td>\n",
       "      <td>20436.0</td>\n",
       "      <td>InstagramAccount</td>\n",
       "    </tr>\n",
       "    <tr>\n",
       "      <th>3</th>\n",
       "      <td>BelAirPeacock</td>\n",
       "      <td>134549.0</td>\n",
       "      <td>InstagramAccount</td>\n",
       "    </tr>\n",
       "    <tr>\n",
       "      <th>4</th>\n",
       "      <td>Bridgerton</td>\n",
       "      <td>1146861.0</td>\n",
       "      <td>InstagramAccount</td>\n",
       "    </tr>\n",
       "  </tbody>\n",
       "</table>\n",
       "</div>"
      ],
      "text/plain": [
       "                 TvShow  SocialMediaValue SocialMediaSource\n",
       "0  ABlackLadySketchShow            7394.0  InstagramAccount\n",
       "1             Archive81              89.0  InstagramAccount\n",
       "2             Atlantafx           20436.0  InstagramAccount\n",
       "3         BelAirPeacock          134549.0  InstagramAccount\n",
       "4            Bridgerton         1146861.0  InstagramAccount"
      ]
     },
     "execution_count": 106,
     "metadata": {},
     "output_type": "execute_result"
    }
   ],
   "source": [
    "nuberData = pd.concat([igAccount,redditSub,tweetComments,igHashtag],axis=0)\n",
    "nuberData.head()"
   ]
  },
  {
   "cell_type": "code",
   "execution_count": 107,
   "metadata": {},
   "outputs": [],
   "source": [
    "uberDf = MergeDfs(releaseDf, iHashtagDf)\n",
    "\n",
    "uberDf = MergeDfs(uberDf, iTweetCountDf)"
   ]
  },
  {
   "cell_type": "code",
   "execution_count": 108,
   "metadata": {},
   "outputs": [
    {
     "data": {
      "text/html": [
       "<div>\n",
       "<style scoped>\n",
       "    .dataframe tbody tr th:only-of-type {\n",
       "        vertical-align: middle;\n",
       "    }\n",
       "\n",
       "    .dataframe tbody tr th {\n",
       "        vertical-align: top;\n",
       "    }\n",
       "\n",
       "    .dataframe thead th {\n",
       "        text-align: right;\n",
       "    }\n",
       "</style>\n",
       "<table border=\"1\" class=\"dataframe\">\n",
       "  <thead>\n",
       "    <tr style=\"text-align: right;\">\n",
       "      <th></th>\n",
       "      <th>TvShow</th>\n",
       "      <th>Stream</th>\n",
       "      <th>EpisodeCount</th>\n",
       "      <th>SeasonNumber</th>\n",
       "      <th>ReleaseCadence</th>\n",
       "      <th>Release Date</th>\n",
       "      <th>Cancel</th>\n",
       "      <th>90DayDate</th>\n",
       "      <th>HashtagValue</th>\n",
       "      <th>diffs</th>\n",
       "      <th>SocialMediaValue_x</th>\n",
       "      <th>SocialMediaSource_x</th>\n",
       "      <th>TweetCount</th>\n",
       "      <th>RetweetCount</th>\n",
       "      <th>SocialMediaValue_y</th>\n",
       "      <th>SocialMediaSource_y</th>\n",
       "    </tr>\n",
       "  </thead>\n",
       "  <tbody>\n",
       "    <tr>\n",
       "      <th>0</th>\n",
       "      <td>ABlackLadySketchShow</td>\n",
       "      <td>HBOMax</td>\n",
       "      <td>6.0</td>\n",
       "      <td>3.0</td>\n",
       "      <td>Weekly</td>\n",
       "      <td>2022-04-08</td>\n",
       "      <td>NaN</td>\n",
       "      <td>2022-07-07</td>\n",
       "      <td>408351.0</td>\n",
       "      <td>464.0</td>\n",
       "      <td>464.0</td>\n",
       "      <td>InstagramHashtag</td>\n",
       "      <td>6700.0</td>\n",
       "      <td>6533.0</td>\n",
       "      <td>13233.0</td>\n",
       "      <td>Tweets</td>\n",
       "    </tr>\n",
       "    <tr>\n",
       "      <th>1</th>\n",
       "      <td>AboutLastNighthbo</td>\n",
       "      <td>HBOMax</td>\n",
       "      <td>8.0</td>\n",
       "      <td>1.0</td>\n",
       "      <td>Binge</td>\n",
       "      <td>2022-02-10</td>\n",
       "      <td>NaN</td>\n",
       "      <td>2022-05-11</td>\n",
       "      <td>334.0</td>\n",
       "      <td>1.0</td>\n",
       "      <td>1.0</td>\n",
       "      <td>InstagramHashtag</td>\n",
       "      <td>NaN</td>\n",
       "      <td>NaN</td>\n",
       "      <td>NaN</td>\n",
       "      <td>NaN</td>\n",
       "    </tr>\n",
       "    <tr>\n",
       "      <th>2</th>\n",
       "      <td>AdventureOfTheRing</td>\n",
       "      <td>HBOMax</td>\n",
       "      <td>8.0</td>\n",
       "      <td>1.0</td>\n",
       "      <td>Weekly</td>\n",
       "      <td>2022-02-10</td>\n",
       "      <td>0.0</td>\n",
       "      <td>2022-05-11</td>\n",
       "      <td>14492.0</td>\n",
       "      <td>2.0</td>\n",
       "      <td>2.0</td>\n",
       "      <td>InstagramHashtag</td>\n",
       "      <td>2213.0</td>\n",
       "      <td>4444.0</td>\n",
       "      <td>6657.0</td>\n",
       "      <td>Tweets</td>\n",
       "    </tr>\n",
       "    <tr>\n",
       "      <th>3</th>\n",
       "      <td>AllTheOldKnives</td>\n",
       "      <td>Prime</td>\n",
       "      <td>NaN</td>\n",
       "      <td>NaN</td>\n",
       "      <td>NaN</td>\n",
       "      <td>2022-04-08</td>\n",
       "      <td>0.0</td>\n",
       "      <td>2022-07-07</td>\n",
       "      <td>268196.0</td>\n",
       "      <td>2020.0</td>\n",
       "      <td>2020.0</td>\n",
       "      <td>InstagramHashtag</td>\n",
       "      <td>7416.0</td>\n",
       "      <td>5102.0</td>\n",
       "      <td>12518.0</td>\n",
       "      <td>Tweets</td>\n",
       "    </tr>\n",
       "    <tr>\n",
       "      <th>4</th>\n",
       "      <td>Archive81</td>\n",
       "      <td>Netflix</td>\n",
       "      <td>8.0</td>\n",
       "      <td>1.0</td>\n",
       "      <td>Binge</td>\n",
       "      <td>2022-01-14</td>\n",
       "      <td>NaN</td>\n",
       "      <td>2022-04-14</td>\n",
       "      <td>310066.0</td>\n",
       "      <td>982.0</td>\n",
       "      <td>982.0</td>\n",
       "      <td>InstagramHashtag</td>\n",
       "      <td>88380.0</td>\n",
       "      <td>48262.0</td>\n",
       "      <td>136642.0</td>\n",
       "      <td>Tweets</td>\n",
       "    </tr>\n",
       "  </tbody>\n",
       "</table>\n",
       "</div>"
      ],
      "text/plain": [
       "                 TvShow   Stream  EpisodeCount  SeasonNumber ReleaseCadence  \\\n",
       "0  ABlackLadySketchShow   HBOMax           6.0           3.0         Weekly   \n",
       "1     AboutLastNighthbo   HBOMax           8.0           1.0          Binge   \n",
       "2    AdventureOfTheRing   HBOMax           8.0           1.0         Weekly   \n",
       "3       AllTheOldKnives    Prime           NaN           NaN            NaN   \n",
       "4             Archive81  Netflix           8.0           1.0          Binge   \n",
       "\n",
       "  Release Date  Cancel  90DayDate  HashtagValue   diffs  SocialMediaValue_x  \\\n",
       "0   2022-04-08     NaN 2022-07-07      408351.0   464.0               464.0   \n",
       "1   2022-02-10     NaN 2022-05-11         334.0     1.0                 1.0   \n",
       "2   2022-02-10     0.0 2022-05-11       14492.0     2.0                 2.0   \n",
       "3   2022-04-08     0.0 2022-07-07      268196.0  2020.0              2020.0   \n",
       "4   2022-01-14     NaN 2022-04-14      310066.0   982.0               982.0   \n",
       "\n",
       "  SocialMediaSource_x  TweetCount  RetweetCount  SocialMediaValue_y  \\\n",
       "0    InstagramHashtag      6700.0        6533.0             13233.0   \n",
       "1    InstagramHashtag         NaN           NaN                 NaN   \n",
       "2    InstagramHashtag      2213.0        4444.0              6657.0   \n",
       "3    InstagramHashtag      7416.0        5102.0             12518.0   \n",
       "4    InstagramHashtag     88380.0       48262.0            136642.0   \n",
       "\n",
       "  SocialMediaSource_y  \n",
       "0              Tweets  \n",
       "1                 NaN  \n",
       "2              Tweets  \n",
       "3              Tweets  \n",
       "4              Tweets  "
      ]
     },
     "execution_count": 108,
     "metadata": {},
     "output_type": "execute_result"
    }
   ],
   "source": [
    "uberDf.head()"
   ]
  },
  {
   "cell_type": "markdown",
   "metadata": {},
   "source": [
    "### Output - individuals & uber dataset"
   ]
  },
  {
   "cell_type": "code",
   "execution_count": 111,
   "metadata": {},
   "outputs": [],
   "source": [
    "filepath2 = r'/Users/cartersocha/Downloads/uberDataset.csv'\n",
    "\n",
    "uberDf3.to_csv(filepath2) "
   ]
  }
 ],
 "metadata": {
  "kernelspec": {
   "display_name": "Python 3.9.9 64-bit",
   "language": "python",
   "name": "python3"
  },
  "language_info": {
   "codemirror_mode": {
    "name": "ipython",
    "version": 3
   },
   "file_extension": ".py",
   "mimetype": "text/x-python",
   "name": "python",
   "nbconvert_exporter": "python",
   "pygments_lexer": "ipython3",
   "version": "3.9.9"
  },
  "orig_nbformat": 4,
  "vscode": {
   "interpreter": {
    "hash": "aee8b7b246df8f9039afb4144a1f6fd8d2ca17a180786b69acc140d282b71a49"
   }
  }
 },
 "nbformat": 4,
 "nbformat_minor": 2
}
