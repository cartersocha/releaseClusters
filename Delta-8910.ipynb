{
 "cells": [
  {
   "cell_type": "markdown",
   "metadata": {},
   "source": [
    "# Delta Practice"
   ]
  },
  {
   "cell_type": "markdown",
   "metadata": {},
   "source": []
  },
  {
   "cell_type": "code",
   "execution_count": 2,
   "metadata": {},
   "outputs": [],
   "source": [
    "import pandas as pd\n",
    "\n",
    "filepath1 = r'/Users/cartersocha/Downloads/instgramHashtagCounts.xlsx'\n",
    "tvShowDF = pd.read_excel(filepath1)\n",
    "\n",
    "filepath3 = r'/Users/cartersocha/Desktop/ReleaseData.xlsx'\n",
    "releaseDf = pd.read_excel(filepath3, \"ShowInfoEndStart\")"
   ]
  },
  {
   "cell_type": "code",
   "execution_count": 3,
   "metadata": {},
   "outputs": [],
   "source": [
    "def DateTimeConvert(dateDf, dateColumn):\n",
    "    dateDf[dateColumn] = pd.to_datetime(dateDf[dateColumn])  \n",
    "\n",
    "    return dateDf"
   ]
  },
  {
   "cell_type": "code",
   "execution_count": 4,
   "metadata": {},
   "outputs": [],
   "source": [
    "releaseDf['90DayDate'] = releaseDf['Release Date'] + pd.DateOffset(days=90)\n",
    "\n",
    "releaseDf = DateTimeConvert(releaseDf,'90DayDate')\n",
    "releaseDf = DateTimeConvert(releaseDf,'Release Date')\n",
    "\n",
    "tvShowDF = DateTimeConvert(tvShowDF,'RunDate')"
   ]
  },
  {
   "cell_type": "code",
   "execution_count": 5,
   "metadata": {},
   "outputs": [],
   "source": [
    "tvShowDF.sort_values(['TvShow', 'RunDate'], inplace=True)\n",
    "\n",
    "tvShowDF['diffs'] = tvShowDF.groupby(['TvShow'])['HashtagValue'].transform(lambda x: x.diff()) .fillna(0)\n",
    "\n",
    "tvShowDF.sort_index(inplace=True)"
   ]
  },
  {
   "cell_type": "code",
   "execution_count": 6,
   "metadata": {},
   "outputs": [],
   "source": [
    "def RemoveData(release,showDf):\n",
    "\n",
    "    bigDf = pd.DataFrame()\n",
    "\n",
    "    for i in range(len(release)):\n",
    "        show = release['TvShow'][i]\n",
    "        firstDate = release['Release Date'][i]\n",
    "        secondDate = release['90DayDate'][i]\n",
    "\n",
    "        smallDf = showDf[showDf['TvShow'] == show]\n",
    "\n",
    "        newdf = smallDf[smallDf['RunDate'].between(firstDate, secondDate)]\n",
    "\n",
    "        bigDf = bigDf.append(newdf,ignore_index=True)\n",
    "\n",
    "    return bigDf"
   ]
  },
  {
   "cell_type": "code",
   "execution_count": 7,
   "metadata": {},
   "outputs": [],
   "source": [
    "def MergeDfs(mainDf, secondDf):\n",
    "\n",
    "    merged = pd.merge(mainDf,secondDf, how='outer', on=['TvShow'])\n",
    "    return merged"
   ]
  },
  {
   "cell_type": "code",
   "execution_count": 8,
   "metadata": {},
   "outputs": [],
   "source": [
    "import numpy as np\n",
    "\n",
    "def NegativeDiffs(diffDf,columnName):\n",
    "\n",
    "    diffDf[columnName] = np.where((diffDf[columnName] < 0), 0, diffDf[columnName])\n",
    "\n",
    "    return diffDf"
   ]
  },
  {
   "cell_type": "code",
   "execution_count": 9,
   "metadata": {},
   "outputs": [],
   "source": [
    "def SumSocialMedia(sumDf,columnName):\n",
    "\n",
    "    summarizedDf = sumDf.groupby(columnName, as_index=False).sum()\n",
    "    summarizedDf = pd.DataFrame(summarizedDf)\n",
    "\n",
    "    return summarizedDf"
   ]
  },
  {
   "cell_type": "code",
   "execution_count": 10,
   "metadata": {},
   "outputs": [
    {
     "name": "stderr",
     "output_type": "stream",
     "text": [
      "/var/folders/7v/2b53j97121jg00pcthbt6kz80000gn/T/ipykernel_73864/2781502079.py:14: FutureWarning: The frame.append method is deprecated and will be removed from pandas in a future version. Use pandas.concat instead.\n",
      "  bigDf = bigDf.append(newdf,ignore_index=True)\n"
     ]
    }
   ],
   "source": [
    "instaDf = RemoveData(releaseDf, tvShowDF)\n",
    "instaDf = NegativeDiffs(instaDf, 'diffs')\n",
    "\n",
    "iHashtagDf = SumSocialMedia(instaDf, 'TvShow')"
   ]
  },
  {
   "cell_type": "code",
   "execution_count": 11,
   "metadata": {},
   "outputs": [],
   "source": [
    "uberDf = MergeDfs(releaseDf, iHashtagDf)"
   ]
  },
  {
   "cell_type": "code",
   "execution_count": 12,
   "metadata": {},
   "outputs": [
    {
     "data": {
      "text/html": [
       "<div>\n",
       "<style scoped>\n",
       "    .dataframe tbody tr th:only-of-type {\n",
       "        vertical-align: middle;\n",
       "    }\n",
       "\n",
       "    .dataframe tbody tr th {\n",
       "        vertical-align: top;\n",
       "    }\n",
       "\n",
       "    .dataframe thead th {\n",
       "        text-align: right;\n",
       "    }\n",
       "</style>\n",
       "<table border=\"1\" class=\"dataframe\">\n",
       "  <thead>\n",
       "    <tr style=\"text-align: right;\">\n",
       "      <th></th>\n",
       "      <th>TvShow</th>\n",
       "      <th>Stream</th>\n",
       "      <th>EpisodeCount</th>\n",
       "      <th>SeasonNumber</th>\n",
       "      <th>ReleaseCadence</th>\n",
       "      <th>Release Date</th>\n",
       "      <th>90DayDate</th>\n",
       "      <th>HashtagValue</th>\n",
       "      <th>diffs</th>\n",
       "    </tr>\n",
       "  </thead>\n",
       "  <tbody>\n",
       "    <tr>\n",
       "      <th>0</th>\n",
       "      <td>ABlackLadySketchShow</td>\n",
       "      <td>HBOMax</td>\n",
       "      <td>NaN</td>\n",
       "      <td>NaN</td>\n",
       "      <td>NaN</td>\n",
       "      <td>2022-04-08</td>\n",
       "      <td>2022-07-07</td>\n",
       "      <td>408351.0</td>\n",
       "      <td>464.0</td>\n",
       "    </tr>\n",
       "    <tr>\n",
       "      <th>1</th>\n",
       "      <td>AboutLastNighthbo</td>\n",
       "      <td>HBOMax</td>\n",
       "      <td>NaN</td>\n",
       "      <td>1.0</td>\n",
       "      <td>NaN</td>\n",
       "      <td>2022-02-10</td>\n",
       "      <td>2022-05-11</td>\n",
       "      <td>334.0</td>\n",
       "      <td>1.0</td>\n",
       "    </tr>\n",
       "    <tr>\n",
       "      <th>2</th>\n",
       "      <td>AdventureOfTheRing</td>\n",
       "      <td>HBOMax</td>\n",
       "      <td>NaN</td>\n",
       "      <td>1.0</td>\n",
       "      <td>NaN</td>\n",
       "      <td>2022-02-10</td>\n",
       "      <td>2022-05-11</td>\n",
       "      <td>14492.0</td>\n",
       "      <td>2.0</td>\n",
       "    </tr>\n",
       "    <tr>\n",
       "      <th>3</th>\n",
       "      <td>AllTheOldKnives</td>\n",
       "      <td>Prime</td>\n",
       "      <td>NaN</td>\n",
       "      <td>NaN</td>\n",
       "      <td>NaN</td>\n",
       "      <td>2022-04-08</td>\n",
       "      <td>2022-07-07</td>\n",
       "      <td>268196.0</td>\n",
       "      <td>2020.0</td>\n",
       "    </tr>\n",
       "    <tr>\n",
       "      <th>4</th>\n",
       "      <td>Archive81</td>\n",
       "      <td>Netflix</td>\n",
       "      <td>8.0</td>\n",
       "      <td>1.0</td>\n",
       "      <td>Binge</td>\n",
       "      <td>2022-01-14</td>\n",
       "      <td>2022-04-14</td>\n",
       "      <td>310066.0</td>\n",
       "      <td>982.0</td>\n",
       "    </tr>\n",
       "    <tr>\n",
       "      <th>5</th>\n",
       "      <td>Atlantafx</td>\n",
       "      <td>Hulu</td>\n",
       "      <td>NaN</td>\n",
       "      <td>3.0</td>\n",
       "      <td>NaN</td>\n",
       "      <td>2022-03-25</td>\n",
       "      <td>2022-06-23</td>\n",
       "      <td>2823307.0</td>\n",
       "      <td>1885.0</td>\n",
       "    </tr>\n",
       "    <tr>\n",
       "      <th>6</th>\n",
       "      <td>Barry</td>\n",
       "      <td>HBOMax</td>\n",
       "      <td>NaN</td>\n",
       "      <td>NaN</td>\n",
       "      <td>NaN</td>\n",
       "      <td>2022-04-24</td>\n",
       "      <td>2022-07-23</td>\n",
       "      <td>1175768.0</td>\n",
       "      <td>1327.0</td>\n",
       "    </tr>\n",
       "    <tr>\n",
       "      <th>7</th>\n",
       "      <td>BelAirPeacock</td>\n",
       "      <td>Peacock</td>\n",
       "      <td>10.0</td>\n",
       "      <td>1.0</td>\n",
       "      <td>Hybrid</td>\n",
       "      <td>2022-02-13</td>\n",
       "      <td>2022-05-14</td>\n",
       "      <td>250414.0</td>\n",
       "      <td>2894.0</td>\n",
       "    </tr>\n",
       "    <tr>\n",
       "      <th>8</th>\n",
       "      <td>BlingEmpire</td>\n",
       "      <td>Netflix</td>\n",
       "      <td>NaN</td>\n",
       "      <td>NaN</td>\n",
       "      <td>NaN</td>\n",
       "      <td>2022-05-13</td>\n",
       "      <td>2022-08-11</td>\n",
       "      <td>846954.0</td>\n",
       "      <td>2187.0</td>\n",
       "    </tr>\n",
       "    <tr>\n",
       "      <th>9</th>\n",
       "      <td>Bridgerton</td>\n",
       "      <td>Netflix</td>\n",
       "      <td>NaN</td>\n",
       "      <td>2.0</td>\n",
       "      <td>NaN</td>\n",
       "      <td>2022-03-25</td>\n",
       "      <td>2022-06-23</td>\n",
       "      <td>46065959.0</td>\n",
       "      <td>171916.0</td>\n",
       "    </tr>\n",
       "  </tbody>\n",
       "</table>\n",
       "</div>"
      ],
      "text/plain": [
       "                 TvShow   Stream  EpisodeCount  SeasonNumber ReleaseCadence  \\\n",
       "0  ABlackLadySketchShow   HBOMax           NaN           NaN            NaN   \n",
       "1     AboutLastNighthbo   HBOMax           NaN           1.0            NaN   \n",
       "2    AdventureOfTheRing   HBOMax           NaN           1.0            NaN   \n",
       "3       AllTheOldKnives    Prime           NaN           NaN            NaN   \n",
       "4             Archive81  Netflix           8.0           1.0          Binge   \n",
       "5             Atlantafx     Hulu           NaN           3.0            NaN   \n",
       "6                 Barry   HBOMax           NaN           NaN            NaN   \n",
       "7         BelAirPeacock  Peacock          10.0           1.0         Hybrid   \n",
       "8           BlingEmpire  Netflix           NaN           NaN            NaN   \n",
       "9            Bridgerton  Netflix           NaN           2.0            NaN   \n",
       "\n",
       "  Release Date  90DayDate  HashtagValue     diffs  \n",
       "0   2022-04-08 2022-07-07      408351.0     464.0  \n",
       "1   2022-02-10 2022-05-11         334.0       1.0  \n",
       "2   2022-02-10 2022-05-11       14492.0       2.0  \n",
       "3   2022-04-08 2022-07-07      268196.0    2020.0  \n",
       "4   2022-01-14 2022-04-14      310066.0     982.0  \n",
       "5   2022-03-25 2022-06-23     2823307.0    1885.0  \n",
       "6   2022-04-24 2022-07-23     1175768.0    1327.0  \n",
       "7   2022-02-13 2022-05-14      250414.0    2894.0  \n",
       "8   2022-05-13 2022-08-11      846954.0    2187.0  \n",
       "9   2022-03-25 2022-06-23    46065959.0  171916.0  "
      ]
     },
     "execution_count": 12,
     "metadata": {},
     "output_type": "execute_result"
    }
   ],
   "source": [
    "uberDf.head(10)"
   ]
  },
  {
   "cell_type": "code",
   "execution_count": null,
   "metadata": {},
   "outputs": [],
   "source": []
  },
  {
   "cell_type": "code",
   "execution_count": null,
   "metadata": {},
   "outputs": [],
   "source": []
  },
  {
   "cell_type": "markdown",
   "metadata": {},
   "source": [
    "filepath2 = r'/Users/cartersocha/Downloads/uberDataset.csv'\n",
    "\n",
    "uberDf.to_csv(filepath2) "
   ]
  }
 ],
 "metadata": {
  "kernelspec": {
   "display_name": "Python 3.9.9 64-bit",
   "language": "python",
   "name": "python3"
  },
  "language_info": {
   "codemirror_mode": {
    "name": "ipython",
    "version": 3
   },
   "file_extension": ".py",
   "mimetype": "text/x-python",
   "name": "python",
   "nbconvert_exporter": "python",
   "pygments_lexer": "ipython3",
   "version": "3.9.9"
  },
  "orig_nbformat": 4,
  "vscode": {
   "interpreter": {
    "hash": "aee8b7b246df8f9039afb4144a1f6fd8d2ca17a180786b69acc140d282b71a49"
   }
  }
 },
 "nbformat": 4,
 "nbformat_minor": 2
}
